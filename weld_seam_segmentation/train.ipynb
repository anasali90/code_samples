{
 "cells": [
  {
   "cell_type": "code",
   "execution_count": 1,
   "metadata": {},
   "outputs": [
    {
     "name": "stderr",
     "output_type": "stream",
     "text": [
      "Using TensorFlow backend.\n"
     ]
    }
   ],
   "source": [
    "import keras \n",
    "from keras import Sequential\n",
    "from keras.layers import Conv2D, MaxPool2D, Deconv2D, Dense, Activation, UpSampling2D, Cropping2D, BatchNormalization\n",
    "from keras.preprocessing.image import ImageDataGenerator\n",
    "from keras.optimizers import SGD\n",
    "import cv2 \n",
    "import numpy as np \n",
    "import matplotlib.pyplot as plt\n",
    "import tensorflow as tf"
   ]
  },
  {
   "cell_type": "code",
   "execution_count": 2,
   "metadata": {},
   "outputs": [],
   "source": [
    "img_size = [200, 1000,1]\n",
    "batch_size = 100\n",
    "epochs = 20 \n",
    "learning_rate = 0.001\n",
    "momentum = 0.9\n"
   ]
  },
  {
   "cell_type": "code",
   "execution_count": 3,
   "metadata": {},
   "outputs": [
    {
     "name": "stdout",
     "output_type": "stream",
     "text": [
      "_________________________________________________________________\n",
      "Layer (type)                 Output Shape              Param #   \n",
      "=================================================================\n",
      "conv2d_1 (Conv2D)            (None, 200, 1000, 32)     1600      \n",
      "_________________________________________________________________\n",
      "max_pooling2d_1 (MaxPooling2 (None, 100, 500, 32)      0         \n",
      "_________________________________________________________________\n",
      "batch_normalization_1 (Batch (None, 100, 500, 32)      128       \n",
      "_________________________________________________________________\n",
      "conv2d_2 (Conv2D)            (None, 100, 500, 64)      100416    \n",
      "_________________________________________________________________\n",
      "max_pooling2d_2 (MaxPooling2 (None, 50, 250, 64)       0         \n",
      "_________________________________________________________________\n",
      "batch_normalization_2 (Batch (None, 50, 250, 64)       256       \n",
      "_________________________________________________________________\n",
      "conv2d_3 (Conv2D)            (None, 50, 250, 128)      204928    \n",
      "_________________________________________________________________\n",
      "max_pooling2d_3 (MaxPooling2 (None, 25, 125, 128)      0         \n",
      "_________________________________________________________________\n",
      "batch_normalization_3 (Batch (None, 25, 125, 128)      512       \n",
      "_________________________________________________________________\n",
      "conv2d_4 (Conv2D)            (None, 25, 125, 256)      819456    \n",
      "_________________________________________________________________\n",
      "max_pooling2d_4 (MaxPooling2 (None, 13, 63, 256)       0         \n",
      "_________________________________________________________________\n",
      "batch_normalization_4 (Batch (None, 13, 63, 256)       1024      \n",
      "_________________________________________________________________\n",
      "conv2d_5 (Conv2D)            (None, 13, 63, 256)       1638656   \n",
      "_________________________________________________________________\n",
      "max_pooling2d_5 (MaxPooling2 (None, 7, 32, 256)        0         \n",
      "_________________________________________________________________\n",
      "batch_normalization_5 (Batch (None, 7, 32, 256)        1024      \n",
      "_________________________________________________________________\n",
      "up_sampling2d_1 (UpSampling2 (None, 14, 64, 256)       0         \n",
      "_________________________________________________________________\n",
      "conv2d_transpose_1 (Conv2DTr (None, 14, 64, 256)       1638656   \n",
      "_________________________________________________________________\n",
      "batch_normalization_6 (Batch (None, 14, 64, 256)       1024      \n",
      "_________________________________________________________________\n",
      "up_sampling2d_2 (UpSampling2 (None, 28, 128, 256)      0         \n",
      "_________________________________________________________________\n",
      "conv2d_transpose_2 (Conv2DTr (None, 28, 128, 64)       409664    \n",
      "_________________________________________________________________\n",
      "batch_normalization_7 (Batch (None, 28, 128, 64)       256       \n",
      "_________________________________________________________________\n",
      "up_sampling2d_3 (UpSampling2 (None, 56, 256, 64)       0         \n",
      "_________________________________________________________________\n",
      "conv2d_transpose_3 (Conv2DTr (None, 56, 256, 32)       51232     \n",
      "_________________________________________________________________\n",
      "batch_normalization_8 (Batch (None, 56, 256, 32)       128       \n",
      "_________________________________________________________________\n",
      "up_sampling2d_4 (UpSampling2 (None, 112, 512, 32)      0         \n",
      "_________________________________________________________________\n",
      "conv2d_transpose_4 (Conv2DTr (None, 112, 512, 16)      12816     \n",
      "_________________________________________________________________\n",
      "batch_normalization_9 (Batch (None, 112, 512, 16)      64        \n",
      "_________________________________________________________________\n",
      "up_sampling2d_5 (UpSampling2 (None, 224, 1024, 16)     0         \n",
      "_________________________________________________________________\n",
      "conv2d_transpose_5 (Conv2DTr (None, 224, 1024, 2)      802       \n",
      "_________________________________________________________________\n",
      "cropping2d_1 (Cropping2D)    (None, 200, 1000, 2)      0         \n",
      "_________________________________________________________________\n",
      "activation_1 (Activation)    (None, 200, 1000, 2)      0         \n",
      "=================================================================\n",
      "Total params: 4,882,642\n",
      "Trainable params: 4,880,434\n",
      "Non-trainable params: 2,208\n",
      "_________________________________________________________________\n"
     ]
    }
   ],
   "source": [
    "model = Sequential()\n",
    "model.add(Conv2D(32, kernel_size=(7,7), strides=(1,1), padding='same', activation='relu', input_shape=(200,1000,1)))\n",
    "model.add(MaxPool2D(pool_size=(2, 2), strides=(2,2), padding='same'))\n",
    "model.add(BatchNormalization())\n",
    "model.add(Conv2D(64, kernel_size=(7,7), strides=(1,1), padding='same', activation='relu'))\n",
    "model.add(MaxPool2D(pool_size=(2, 2), strides=(2,2), padding='same'))\n",
    "model.add(BatchNormalization())\n",
    "model.add(Conv2D(128, kernel_size=(5,5), strides=(1,1), padding='same', activation='relu'))\n",
    "model.add(MaxPool2D(pool_size=(2, 2), strides=(2,2), padding='same'))\n",
    "model.add(BatchNormalization())\n",
    "model.add(Conv2D(256, kernel_size=(5,5), strides=(1,1), padding='same', activation='relu'))\n",
    "model.add(MaxPool2D(pool_size=(2, 2), strides=(2,2), padding='same'))\n",
    "model.add(BatchNormalization())\n",
    "model.add(Conv2D(256, kernel_size=(5,5), strides=(1,1), padding='same', activation='relu'))\n",
    "model.add(MaxPool2D(pool_size=(2, 2), strides=(2,2), padding='same'))\n",
    "model.add(BatchNormalization())\n",
    "\n",
    "model.add(UpSampling2D(size=(2, 2), data_format=None, interpolation='nearest', ))\n",
    "model.add(Deconv2D(256, (5,5), strides=(1,1), padding='same'))\n",
    "model.add(BatchNormalization())\n",
    "\n",
    "model.add(UpSampling2D(size=(2, 2), data_format=None, interpolation='nearest'))\n",
    "model.add(Deconv2D(64, (5,5), strides=(1,1), padding='same'))\n",
    "model.add(BatchNormalization())\n",
    "\n",
    "model.add(UpSampling2D(size=(2, 2), data_format=None, interpolation='nearest'))\n",
    "model.add(Deconv2D(32, (5,5), strides=(1,1), padding='same'))\n",
    "model.add(BatchNormalization())\n",
    "\n",
    "model.add(UpSampling2D(size=(2, 2), data_format=None, interpolation='nearest'))\n",
    "model.add(Deconv2D(16, (5,5), strides=(1,1), padding='same'))\n",
    "model.add(BatchNormalization())\n",
    "\n",
    "model.add(UpSampling2D(size=(2, 2), data_format=None, interpolation='nearest'))\n",
    "model.add(Deconv2D(2, (5,5), strides=(1,1), padding='same'))\n",
    "\n",
    "\n",
    "model.add(Cropping2D(cropping=((12,12), (12, 12))))\n",
    "\n",
    "model.add(Activation('softmax'))\n",
    "\n",
    "model.summary()"
   ]
  },
  {
   "cell_type": "code",
   "execution_count": 4,
   "metadata": {},
   "outputs": [
    {
     "name": "stdout",
     "output_type": "stream",
     "text": [
      "Found 36 images belonging to 1 classes.\n",
      "Found 36 images belonging to 1 classes.\n"
     ]
    }
   ],
   "source": [
    "\n",
    "data_gen_args = dict(horizontal_flip = True,\n",
    "                     vertical_flip = True,\n",
    "                     rotation_range = 2,\n",
    "                     width_shift_range=0.1,\n",
    "                     height_shift_range=0.1,\n",
    "                     rescale=1.0/255.0,\n",
    "                     zoom_range=0.2)\n",
    "image_datagen = ImageDataGenerator(**data_gen_args)\n",
    "mask_datagen = ImageDataGenerator(**data_gen_args)\n",
    "\n",
    "\n",
    "seed = 1\n",
    "\n",
    "\n",
    "image_generator = image_datagen.flow_from_directory(\n",
    "    '/home/iali/welds/data/imgs/',\n",
    "    class_mode=None,\n",
    "    batch_size=5,\n",
    "    \n",
    "    color_mode='grayscale',\n",
    "    target_size=(200,1000, ),\n",
    "    seed=seed)\n",
    "\n",
    "mask_generator = mask_datagen.flow_from_directory(\n",
    "    '/home/iali/welds/data/masks',\n",
    "    class_mode=None,\n",
    "    color_mode='grayscale',\n",
    "    batch_size=5,\n",
    "\n",
    "    target_size=(200, 1000, ),\n",
    "    seed=seed)\n",
    "\n",
    "\n",
    "train_generator = zip(image_generator, mask_generator)\n"
   ]
  },
  {
   "cell_type": "code",
   "execution_count": 5,
   "metadata": {},
   "outputs": [],
   "source": [
    "\n",
    "def dice_loss(target,output ): \n",
    "    target= tf.squeeze(target, axis=3)\n",
    "    loss = keras.losses.binary_crossentropy(target, output[:,:,:,0])\n",
    "    return loss\n",
    "\n",
    "def accu(y_true, y_pred): \n",
    "    y_true= tf.squeeze(y_true, axis=3)\n",
    "    return keras.metrics.binary_accuracy(y_true, y_pred[:,:,:,0])\n",
    "opt = SGD(learning_rate, momentum=momentum)\n",
    "model.compile(opt, loss=dice_loss, metrics=[ accu])"
   ]
  },
  {
   "cell_type": "code",
   "execution_count": 204,
   "metadata": {},
   "outputs": [
    {
     "name": "stdout",
     "output_type": "stream",
     "text": [
      "Epoch 1/10\n",
      "5/5 [==============================] - 4s 812ms/step - loss: 0.1195 - accu: 0.9609\n",
      "Epoch 2/10\n",
      "5/5 [==============================] - 4s 740ms/step - loss: 0.2038 - accu: 0.9224\n",
      "Epoch 3/10\n",
      "5/5 [==============================] - 5s 936ms/step - loss: 0.1392 - accu: 0.9535\n",
      "Epoch 4/10\n",
      "5/5 [==============================] - 4s 775ms/step - loss: 0.1542 - accu: 0.9470\n",
      "Epoch 5/10\n",
      "5/5 [==============================] - 5s 921ms/step - loss: 0.1292 - accu: 0.9534\n",
      "Epoch 6/10\n",
      "5/5 [==============================] - 4s 763ms/step - loss: 0.1378 - accu: 0.9543\n",
      "Epoch 7/10\n",
      "5/5 [==============================] - 4s 768ms/step - loss: 0.1212 - accu: 0.9575\n",
      "Epoch 8/10\n",
      "5/5 [==============================] - 5s 918ms/step - loss: 0.1129 - accu: 0.9584\n",
      "Epoch 9/10\n",
      "5/5 [==============================] - 4s 763ms/step - loss: 0.1028 - accu: 0.9638\n",
      "Epoch 10/10\n",
      "5/5 [==============================] - 4s 758ms/step - loss: 0.1074 - accu: 0.9594\n"
     ]
    },
    {
     "data": {
      "text/plain": [
       "<keras.callbacks.History at 0x7f9a325d8358>"
      ]
     },
     "execution_count": 204,
     "metadata": {},
     "output_type": "execute_result"
    }
   ],
   "source": [
    "model.fit_generator(\n",
    "    train_generator,\n",
    "    steps_per_epoch=5,\n",
    "   epochs=10\n",
    "    )"
   ]
  },
  {
   "cell_type": "code",
   "execution_count": null,
   "metadata": {},
   "outputs": [],
   "source": []
  },
  {
   "cell_type": "code",
   "execution_count": 207,
   "metadata": {},
   "outputs": [],
   "source": [
    "model.save('weld_seg_UNET.h5')\n"
   ]
  }
 ],
 "metadata": {
  "kernelspec": {
   "display_name": "Python 3",
   "language": "python",
   "name": "python3"
  },
  "language_info": {
   "codemirror_mode": {
    "name": "ipython",
    "version": 3
   },
   "file_extension": ".py",
   "mimetype": "text/x-python",
   "name": "python",
   "nbconvert_exporter": "python",
   "pygments_lexer": "ipython3",
   "version": "3.6.7"
  },
  "varInspector": {
   "cols": {
    "lenName": 16,
    "lenType": 16,
    "lenVar": 40
   },
   "kernels_config": {
    "python": {
     "delete_cmd_postfix": "",
     "delete_cmd_prefix": "del ",
     "library": "var_list.py",
     "varRefreshCmd": "print(var_dic_list())"
    },
    "r": {
     "delete_cmd_postfix": ") ",
     "delete_cmd_prefix": "rm(",
     "library": "var_list.r",
     "varRefreshCmd": "cat(var_dic_list()) "
    }
   },
   "position": {
    "height": "766px",
    "left": "1556px",
    "right": "20px",
    "top": "97px",
    "width": "338px"
   },
   "types_to_exclude": [
    "module",
    "function",
    "builtin_function_or_method",
    "instance",
    "_Feature"
   ],
   "window_display": true
  }
 },
 "nbformat": 4,
 "nbformat_minor": 2
}
