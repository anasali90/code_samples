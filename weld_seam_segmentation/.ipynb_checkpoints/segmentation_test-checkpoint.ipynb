{
 "cells": [
  {
   "cell_type": "code",
   "execution_count": 2,
   "metadata": {},
   "outputs": [
    {
     "name": "stderr",
     "output_type": "stream",
     "text": [
      "Using TensorFlow backend.\n"
     ]
    }
   ],
   "source": [
    "import keras \n",
    "import tensorflow as tf \n",
    "import cv2 \n",
    "import matplotlib.pyplot as plt \n",
    "from keras.models import load_model"
   ]
  },
  {
   "cell_type": "code",
   "execution_count": 3,
   "metadata": {},
   "outputs": [
    {
     "name": "stdout",
     "output_type": "stream",
     "text": [
      "_________________________________________________________________\n",
      "Layer (type)                 Output Shape              Param #   \n",
      "=================================================================\n",
      "conv2d_117 (Conv2D)          (None, 200, 1000, 32)     1600      \n",
      "_________________________________________________________________\n",
      "max_pooling2d_76 (MaxPooling (None, 100, 500, 32)      0         \n",
      "_________________________________________________________________\n",
      "batch_normalization_135 (Bat (None, 100, 500, 32)      128       \n",
      "_________________________________________________________________\n",
      "conv2d_118 (Conv2D)          (None, 100, 500, 64)      100416    \n",
      "_________________________________________________________________\n",
      "max_pooling2d_77 (MaxPooling (None, 50, 250, 64)       0         \n",
      "_________________________________________________________________\n",
      "batch_normalization_136 (Bat (None, 50, 250, 64)       256       \n",
      "_________________________________________________________________\n",
      "conv2d_119 (Conv2D)          (None, 50, 250, 128)      204928    \n",
      "_________________________________________________________________\n",
      "max_pooling2d_78 (MaxPooling (None, 25, 125, 128)      0         \n",
      "_________________________________________________________________\n",
      "batch_normalization_137 (Bat (None, 25, 125, 128)      512       \n",
      "_________________________________________________________________\n",
      "conv2d_120 (Conv2D)          (None, 25, 125, 256)      819456    \n",
      "_________________________________________________________________\n",
      "max_pooling2d_79 (MaxPooling (None, 13, 63, 256)       0         \n",
      "_________________________________________________________________\n",
      "batch_normalization_138 (Bat (None, 13, 63, 256)       1024      \n",
      "_________________________________________________________________\n",
      "conv2d_121 (Conv2D)          (None, 13, 63, 256)       1638656   \n",
      "_________________________________________________________________\n",
      "max_pooling2d_80 (MaxPooling (None, 7, 32, 256)        0         \n",
      "_________________________________________________________________\n",
      "batch_normalization_139 (Bat (None, 7, 32, 256)        1024      \n",
      "_________________________________________________________________\n",
      "up_sampling2d_75 (UpSampling (None, 14, 64, 256)       0         \n",
      "_________________________________________________________________\n",
      "conv2d_transpose_33 (Conv2DT (None, 14, 64, 256)       1638656   \n",
      "_________________________________________________________________\n",
      "batch_normalization_140 (Bat (None, 14, 64, 256)       1024      \n",
      "_________________________________________________________________\n",
      "up_sampling2d_76 (UpSampling (None, 28, 128, 256)      0         \n",
      "_________________________________________________________________\n",
      "conv2d_transpose_34 (Conv2DT (None, 28, 128, 64)       409664    \n",
      "_________________________________________________________________\n",
      "batch_normalization_141 (Bat (None, 28, 128, 64)       256       \n",
      "_________________________________________________________________\n",
      "up_sampling2d_77 (UpSampling (None, 56, 256, 64)       0         \n",
      "_________________________________________________________________\n",
      "conv2d_transpose_35 (Conv2DT (None, 56, 256, 32)       51232     \n",
      "_________________________________________________________________\n",
      "batch_normalization_142 (Bat (None, 56, 256, 32)       128       \n",
      "_________________________________________________________________\n",
      "up_sampling2d_78 (UpSampling (None, 112, 512, 32)      0         \n",
      "_________________________________________________________________\n",
      "conv2d_transpose_36 (Conv2DT (None, 112, 512, 16)      12816     \n",
      "_________________________________________________________________\n",
      "batch_normalization_143 (Bat (None, 112, 512, 16)      64        \n",
      "_________________________________________________________________\n",
      "up_sampling2d_79 (UpSampling (None, 224, 1024, 16)     0         \n",
      "_________________________________________________________________\n",
      "conv2d_transpose_37 (Conv2DT (None, 224, 1024, 2)      802       \n",
      "_________________________________________________________________\n",
      "cropping2d_18 (Cropping2D)   (None, 200, 1000, 2)      0         \n",
      "_________________________________________________________________\n",
      "activation_15 (Activation)   (None, 200, 1000, 2)      0         \n",
      "=================================================================\n",
      "Total params: 4,882,642\n",
      "Trainable params: 4,880,434\n",
      "Non-trainable params: 2,208\n",
      "_________________________________________________________________\n"
     ]
    }
   ],
   "source": [
    "model = load_model('weld_seg_UNET.h5',compile=False)\n",
    "model.summary()"
   ]
  },
  {
   "cell_type": "code",
   "execution_count": null,
   "metadata": {},
   "outputs": [],
   "source": [
    "img = cv2.imread('./test_data/w512.JPG', 0)\n",
    "#img = cv2.equalizeHist(img)\n",
    "#label = cv2.imread('/home/iali/welds/data/masks/masks/w110.png', 0)\n",
    "#label = cv2.resize(label, (1000,200))\n",
    "\n",
    "img = cv2.resize(img, (1000,200,))\n",
    "\n",
    "img = np.expand_dims(img,axis=2)\n",
    "img = np.expand_dims(img,axis=0)\n",
    "img = img/255\n",
    "\n",
    "output = model.predict(img, batch_size=1)\n",
    "\n",
    "\n",
    "newout = output[0,:,:,0]\n",
    "\n",
    "newout=np.greater(newout, np.ones_like(newout)*0.5)\n",
    "fig, axs = plt.subplots(2)\n",
    "\n",
    "axs[0].imshow(img[0,:,:,0])\n",
    "#axs[1].imshow(label)\n",
    "axs[1].imshow(newout)\n"
   ]
  }
 ],
 "metadata": {
  "kernelspec": {
   "display_name": "Python 3",
   "language": "python",
   "name": "python3"
  },
  "language_info": {
   "codemirror_mode": {
    "name": "ipython",
    "version": 3
   },
   "file_extension": ".py",
   "mimetype": "text/x-python",
   "name": "python",
   "nbconvert_exporter": "python",
   "pygments_lexer": "ipython3",
   "version": "3.6.7"
  },
  "varInspector": {
   "cols": {
    "lenName": 16,
    "lenType": 16,
    "lenVar": 40
   },
   "kernels_config": {
    "python": {
     "delete_cmd_postfix": "",
     "delete_cmd_prefix": "del ",
     "library": "var_list.py",
     "varRefreshCmd": "print(var_dic_list())"
    },
    "r": {
     "delete_cmd_postfix": ") ",
     "delete_cmd_prefix": "rm(",
     "library": "var_list.r",
     "varRefreshCmd": "cat(var_dic_list()) "
    }
   },
   "types_to_exclude": [
    "module",
    "function",
    "builtin_function_or_method",
    "instance",
    "_Feature"
   ],
   "window_display": false
  }
 },
 "nbformat": 4,
 "nbformat_minor": 2
}
